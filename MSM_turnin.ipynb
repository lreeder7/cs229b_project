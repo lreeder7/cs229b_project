{
 "cells": [
  {
   "cell_type": "markdown",
   "metadata": {
    "id": "AmsEt10pic7N"
   },
   "source": [
    "# CS 229B Project - MSM Estimation"
   ]
  },
  {
   "cell_type": "markdown",
   "metadata": {
    "id": "094MANVaMcwh"
   },
   "source": [
    "## Upload Dataset & Install packages\n",
    "\n",
    "The FS Peptide dataset contains 28 trajectories, each with 10000 frames.\n",
    "\n",
    "We need to install packages for data preprocessing (MDTraj) and for the models we are running (PyEMMA, PyTorch)."
   ]
  },
  {
   "cell_type": "code",
   "execution_count": null,
   "metadata": {
    "colab": {
     "base_uri": "https://localhost:8080/"
    },
    "id": "dZnWQ14URisX",
    "outputId": "df552928-2cc3-440b-9939-6cd8ecd5633c",
    "scrolled": true
   },
   "outputs": [],
   "source": [
    "!wget https://ndownloader.figshare.com/articles/1030363/versions/1 -O fs_peptide.zip\n",
    "!unzip fs_peptide.zip"
   ]
  },
  {
   "cell_type": "code",
   "execution_count": null,
   "metadata": {
    "colab": {
     "base_uri": "https://localhost:8080/"
    },
    "id": "a5TfIPqqS0Hs",
    "outputId": "0a3a8750-5319-468d-a86a-32cd7a149c63",
    "scrolled": true
   },
   "outputs": [],
   "source": [
    "!pip install mdtraj torch pyemma"
   ]
  },
  {
   "cell_type": "markdown",
   "metadata": {
    "id": "DCKSrYhjjEdl"
   },
   "source": [
    "# Load dataset into train/test files"
   ]
  },
  {
   "cell_type": "code",
   "execution_count": null,
   "metadata": {},
   "outputs": [],
   "source": [
    "import torch\n",
    "import random\n",
    "import numpy as np"
   ]
  },
  {
   "cell_type": "code",
   "execution_count": null,
   "metadata": {},
   "outputs": [],
   "source": [
    "def random_seed(seed=42, rank=0):\n",
    "    torch.manual_seed(seed + rank)\n",
    "    np.random.seed(seed + rank)\n",
    "    random.seed(seed + rank)"
   ]
  },
  {
   "cell_type": "code",
   "execution_count": null,
   "metadata": {},
   "outputs": [],
   "source": [
    "seed = 7\n",
    "test_frac = 0.2\n",
    "train_drop = 0\n",
    "\n",
    "random_seed(seed=seed)"
   ]
  },
  {
   "cell_type": "code",
   "execution_count": null,
   "metadata": {},
   "outputs": [],
   "source": [
    "pdb = 'fs-peptide.pdb'\n",
    "files = [f'trajectory-{i}.xtc' for i in range(1,29)]\n",
    "np.random.seed(seed)\n",
    "train_files = np.random.choice(files, size=int(len(files)* (1-test_frac)), replace=False)\n",
    "test_files = list(np.setdiff1d(files, train_files))\n",
    "train_files = list(np.random.choice(train_files, size=int(len(train_files)* (1 - train_drop)), replace=False))"
   ]
  },
  {
   "cell_type": "code",
   "execution_count": null,
   "metadata": {},
   "outputs": [],
   "source": [
    "print(train_files)\n",
    "print(test_files)"
   ]
  },
  {
   "cell_type": "code",
   "execution_count": null,
   "metadata": {},
   "outputs": [],
   "source": []
  },
  {
   "cell_type": "markdown",
   "metadata": {
    "id": "W3hX0Ft9l6kF"
   },
   "source": [
    "# Build a Markov State Model\n",
    "This implementation follows the [PyEMMA jupyter notebook tutorials](http://www.emma-project.org/latest/tutorial.html)"
   ]
  },
  {
   "cell_type": "code",
   "execution_count": null,
   "metadata": {
    "id": "1KEFgU14lblf"
   },
   "outputs": [],
   "source": [
    "import pyemma\n",
    "import matplotlib.pyplot as plt\n",
    "import mdtraj as md"
   ]
  },
  {
   "cell_type": "code",
   "execution_count": null,
   "metadata": {},
   "outputs": [],
   "source": [
    "traj0 = 'trajectory-1.xtc'\n"
   ]
  },
  {
   "cell_type": "code",
   "execution_count": null,
   "metadata": {},
   "outputs": [],
   "source": [
    "pdb = 'fs-peptide.pdb'"
   ]
  },
  {
   "cell_type": "markdown",
   "metadata": {},
   "source": [
    "### Featurize"
   ]
  },
  {
   "cell_type": "code",
   "execution_count": null,
   "metadata": {},
   "outputs": [],
   "source": [
    "# grab phi and psi indices: will give quadruplets of atom indices that define psi and phi angles\n",
    "traj = md.load_xtc(train_files[0], top=pdb)\n",
    "psi,_ = md.compute_psi(traj)\n",
    "phi,_ = md.compute_phi(traj)\n",
    "\n",
    "#pyemma add_dihedrals needs indices to be (num_pairs, 4)\n",
    "indices = np.concatenate([phi, psi])\n",
    "\n",
    "di_feat = pyemma.coordinates.featurizer(pdb)\n",
    "di_feat.add_dihedrals(indices, cossin=True, periodic=False)\n",
    "di_data = pyemma.coordinates.load(train_files, features=di_feat)\n",
    "di_data_concatenated = np.concatenate(di_data)\n",
    "print(\"data shape: \", np.array(di_data).shape)"
   ]
  },
  {
   "cell_type": "code",
   "execution_count": null,
   "metadata": {},
   "outputs": [],
   "source": [
    "rmsd_feat = pyemma.coordinates.featurizer(pdb)\n",
    "rmsd_feat.add_backbone_torsions(cossin=True, periodic=False)\n",
    "rmsd_feat.add_minrmsd_to_ref(traj0, ref_frame=0)\n",
    "rmsd_data = pyemma.coordinates.load(train_files, features=rmsd_feat)\n",
    "print(\"data shape: \", np.array(rmsd_data).shape)"
   ]
  },
  {
   "cell_type": "code",
   "execution_count": null,
   "metadata": {},
   "outputs": [],
   "source": [
    "t_feat = pyemma.coordinates.featurizer(pdb)\n",
    "t_feat.add_backbone_torsions(cossin=True, periodic=False)\n",
    "torsions_data = pyemma.coordinates.load(train_files, features=t_feat)\n",
    "print(\"data shape: \", np.array(torsions_data).shape)"
   ]
  },
  {
   "cell_type": "code",
   "execution_count": null,
   "metadata": {},
   "outputs": [],
   "source": [
    "heavy_feat = pyemma.coordinates.featurizer(pdb)\n",
    "heavy_atom_distance_pairs = heavy_feat.pairs(heavy_feat.select_Heavy())\n",
    "heavy_feat.add_distances(heavy_atom_distance_pairs, periodic=False)\n",
    "heavy_data = pyemma.coordinates.load(train_files, features=heavy_feat)"
   ]
  },
  {
   "cell_type": "code",
   "execution_count": null,
   "metadata": {},
   "outputs": [],
   "source": [
    "regular_data = pyemma.coordinates.load(train_files, top=pdb)\n",
    "print(\"data shape: \", np.array(regular_data).shape)"
   ]
  },
  {
   "cell_type": "code",
   "execution_count": null,
   "metadata": {},
   "outputs": [],
   "source": [
    "score_phi_psi = pyemma.coordinates.vamp(di_data[:-1], dim=4).score(\n",
    "                test_data=di_data[-1], score_method='VAMP2')\n",
    "print('VAMP2-score dihedral angles: {:.2f}'.format(score_phi_psi))\n",
    "\n",
    "score_phi_psi2 = pyemma.coordinates.vamp(rmsd_data[:-1], dim=4).score(\n",
    "                test_data=rmsd_data[-1], score_method='VAMP2')\n",
    "print('VAMP2-score rmsd + backbone torsions: {:.2f}'.format(score_phi_psi2))\n"
   ]
  },
  {
   "cell_type": "markdown",
   "metadata": {},
   "source": [
    "Looking at the VAMP scores, there is not much difference between dihedral angles and rmsd + backbone torsions, but we will continue with dihedral angles"
   ]
  },
  {
   "cell_type": "markdown",
   "metadata": {},
   "source": [
    "### TICA - regular vs featurized, shows that featurization actually is important!"
   ]
  },
  {
   "cell_type": "code",
   "execution_count": null,
   "metadata": {},
   "outputs": [],
   "source": [
    "tica_regular = pyemma.coordinates.tica(regular_data, lag=2, dim=4)\n",
    "\n",
    "tica_regular_output = tica_regular.get_output()\n",
    "\n",
    "tica_regular_concatenated = np.concatenate(tica_regular_output)\n",
    "\n",
    "\n",
    "fig, axes = plt.subplots(1, 2, figsize=(10, 4))\n",
    "pyemma.plots.plot_feature_histograms(\n",
    "    tica_regular_concatenated,\n",
    "    ax=axes[0],\n",
    "    feature_labels=['IC1', 'IC2', 'IC3', 'IC4'],\n",
    "    ylog=True)\n",
    "pyemma.plots.plot_density(*tica_regular_concatenated[:, :2].T, ax=axes[1], logscale=True)\n",
    "\n",
    "axes[1].set_xlabel('IC 1')\n",
    "axes[1].set_ylabel('IC 2')\n",
    "fig.tight_layout()\n"
   ]
  },
  {
   "cell_type": "code",
   "execution_count": null,
   "metadata": {},
   "outputs": [],
   "source": [
    "pyemma.plots.plot_free_energy(*tica_regular_concatenated[:, :2].T, legacy=False)"
   ]
  },
  {
   "cell_type": "code",
   "execution_count": null,
   "metadata": {},
   "outputs": [],
   "source": [
    "\n",
    "\n",
    "tica = pyemma.coordinates.tica(di_data, lag=2,dim=4)\n",
    "\n",
    "tica_output = tica.get_output()\n",
    "\n",
    "tica_concatenated = np.concatenate(tica_output)"
   ]
  },
  {
   "cell_type": "code",
   "execution_count": null,
   "metadata": {},
   "outputs": [],
   "source": []
  },
  {
   "cell_type": "code",
   "execution_count": null,
   "metadata": {},
   "outputs": [],
   "source": [
    "fig, axes = plt.subplots(1, 3, figsize=(12, 3))\n",
    "pyemma.plots.plot_feature_histograms(\n",
    "    tica_concatenated, ['IC {}'.format(i + 1) for i in range(tica.dimension())], ax=axes[0])\n",
    "pyemma.plots.plot_density(*tica_concatenated[:, :2].T, ax=axes[1], cbar=False, logscale=True)\n",
    "pyemma.plots.plot_free_energy(*tica_concatenated[:, :2].T, ax=axes[2], legacy=False)\n",
    "for ax in axes.flat[1:]:\n",
    "    ax.set_xlabel('IC 1')\n",
    "    ax.set_ylabel('IC 2')\n",
    "fig.tight_layout()"
   ]
  },
  {
   "cell_type": "code",
   "execution_count": null,
   "metadata": {},
   "outputs": [],
   "source": [
    "\n",
    "fig, axes = plt.subplots(4, 1, figsize=(12, 5), sharex=True)\n",
    "x = 0.1 * np.arange(tica_output[0].shape[0])\n",
    "for i, (ax, tic) in enumerate(zip(axes.flat, tica_output[0].T)):\n",
    "    ax.plot(x, tic)\n",
    "    ax.set_ylabel('IC {}'.format(i + 1))\n",
    "axes[-1].set_xlabel('time / ns')\n",
    "fig.tight_layout()"
   ]
  },
  {
   "cell_type": "code",
   "execution_count": null,
   "metadata": {},
   "outputs": [],
   "source": []
  },
  {
   "cell_type": "markdown",
   "metadata": {},
   "source": [
    "### Cluster"
   ]
  },
  {
   "cell_type": "code",
   "execution_count": null,
   "metadata": {},
   "outputs": [],
   "source": [
    "cluster = pyemma.coordinates.cluster_kmeans(\n",
    "        tica_output, max_iter=50,k=100)\n",
    "dtrajs_concatenated = np.concatenate(cluster.dtrajs)"
   ]
  },
  {
   "cell_type": "code",
   "execution_count": null,
   "metadata": {},
   "outputs": [],
   "source": [
    "#fig, axes = plt.subplots( figsize=(12, 3))\n",
    "pyemma.plots.plot_free_energy(*tica_concatenated[:, :2].T, legacy=False)#, colorbar=\"free energy / kT\", fontsize=15)\n",
    "plt.title('Free Energy on TICA coordinates', fontsize=15)\n",
    "plt.xlabel('IC 1', fontsize=14)\n",
    "plt.ylabel('IC 2', fontsize=14)\n",
    "#plt.colorbar('free energy / kT', fontsize=15)\n",
    "plt.savefig('TICA_energy.png')"
   ]
  },
  {
   "cell_type": "code",
   "execution_count": null,
   "metadata": {},
   "outputs": [],
   "source": [
    "fig, ax = plt.subplots(figsize=(5,5))\n",
    "\n",
    "pyemma.plots.plot_density(\n",
    "    *tica_concatenated[:, :2].T, cbar=False, ax=ax, alpha=0.6)\n",
    "ax.scatter(*cluster.clustercenters[:, :2].T, s=7, c='C1')\n",
    "ax.set_xlabel('IC 1', fontsize=15)\n",
    "ax.set_ylabel('IC 2', fontsize=15)\n",
    "plt.title('Cluster centers on TICA',fontsize=17)\n",
    "plt.savefig('TICA_cluster.png')"
   ]
  },
  {
   "cell_type": "markdown",
   "metadata": {},
   "source": [
    "# testing data - assign to clusters"
   ]
  },
  {
   "cell_type": "code",
   "execution_count": null,
   "metadata": {},
   "outputs": [],
   "source": [
    "# get TICA of testing data\n",
    "test_feat = pyemma.coordinates.featurizer(pdb)\n",
    "test_feat.add_dihedrals(indices, cossin=True, periodic=False)\n",
    "test_data = pyemma.coordinates.load(test_files, features=test_feat)\n",
    "test_data_concatenated = np.concatenate(test_data)\n",
    "print(\"data shape: \", np.array(test_data).shape)"
   ]
  },
  {
   "cell_type": "code",
   "execution_count": null,
   "metadata": {},
   "outputs": [],
   "source": [
    "\n",
    "test_tica = pyemma.coordinates.tica(test_data, lag=2,dim=4)\n",
    "\n",
    "\n",
    "test_tica_output = test_tica.get_output()\n",
    "\n",
    "test_tica_concatenated = np.concatenate(test_tica_output)"
   ]
  },
  {
   "cell_type": "code",
   "execution_count": null,
   "metadata": {},
   "outputs": [],
   "source": [
    "fig, axes = plt.subplots(1, 3, figsize=(12, 3))\n",
    "pyemma.plots.plot_feature_histograms(\n",
    "    tica_concatenated, ['IC {}'.format(i + 1) for i in range(test_tica.dimension())], ax=axes[0])\n",
    "pyemma.plots.plot_density(*test_tica_concatenated[:, :2].T, ax=axes[1], cbar=False, logscale=True)\n",
    "pyemma.plots.plot_free_energy(*test_tica_concatenated[:, :2].T, ax=axes[2], legacy=False)\n",
    "for ax in axes.flat[1:]:\n",
    "    ax.set_xlabel('IC 1')\n",
    "    ax.set_ylabel('IC 2')\n",
    "fig.tight_layout()"
   ]
  },
  {
   "cell_type": "code",
   "execution_count": null,
   "metadata": {},
   "outputs": [],
   "source": [
    "# assign the test values with a cluster according to tica value\n",
    "\n",
    "test_clusters = cluster.assign(test_tica_output)\n",
    "print(type(test_clusters))\n",
    "print((np.array(test_clusters)).shape)\n",
    "train_dtrajs = np.array(cluster.dtrajs)\n",
    "print(train_dtrajs.shape)\n",
    "\n",
    "test_dtrajs = np.array(test_clusters)\n",
    "print((np.array(test_clusters))[0,0:5])\n",
    "print((np.array(cluster.dtrajs))[0,0:5])\n",
    "\n",
    "dtrajs = np.concatenate((train_dtrajs, test_dtrajs))\n",
    "print(dtrajs.shape)\n",
    "dtrajs = list(dtrajs)\n",
    "all_dtrajs_concat = np.concatenate(dtrajs)\n",
    "print(dtrajs_concatenated.shape)\n",
    "print(all_dtrajs_concat.shape)"
   ]
  },
  {
   "cell_type": "code",
   "execution_count": null,
   "metadata": {},
   "outputs": [],
   "source": []
  },
  {
   "cell_type": "code",
   "execution_count": null,
   "metadata": {},
   "outputs": [],
   "source": []
  },
  {
   "cell_type": "code",
   "execution_count": null,
   "metadata": {},
   "outputs": [],
   "source": []
  },
  {
   "cell_type": "code",
   "execution_count": null,
   "metadata": {},
   "outputs": [],
   "source": []
  },
  {
   "cell_type": "code",
   "execution_count": null,
   "metadata": {},
   "outputs": [],
   "source": []
  },
  {
   "cell_type": "markdown",
   "metadata": {},
   "source": [
    "# Build MSM"
   ]
  },
  {
   "cell_type": "code",
   "execution_count": null,
   "metadata": {},
   "outputs": [],
   "source": [
    "msm = pyemma.msm.estimate_markov_model(cluster.dtrajs, lag=2,dt_traj='50 ps')\n",
    "pyemma.plots.plot_cktest(msm.cktest(4), units='ps')"
   ]
  },
  {
   "cell_type": "code",
   "execution_count": null,
   "metadata": {},
   "outputs": [],
   "source": [
    "msm.pcca(4)"
   ]
  },
  {
   "cell_type": "code",
   "execution_count": null,
   "metadata": {},
   "outputs": [],
   "source": [
    "print(dtrajs_concatenated)\n",
    "print(max(dtrajs_concatenated))"
   ]
  },
  {
   "cell_type": "code",
   "execution_count": null,
   "metadata": {},
   "outputs": [],
   "source": [
    "\n",
    "for i in range(0, len(dtrajs_concatenated)):\n",
    "    if dtrajs_concatenated[i] >= 99:\n",
    "        dtrajs_concatenated[i]-= 1"
   ]
  },
  {
   "cell_type": "code",
   "execution_count": null,
   "metadata": {},
   "outputs": [],
   "source": [
    "metastable_traj = msm.metastable_assignments[dtrajs_concatenated]\n",
    "highest_membership = msm.metastable_distributions.argmax(1)\n",
    "coarse_state_centers = cluster.clustercenters[msm.active_set[highest_membership]]\n",
    "\n",
    "print(highest_membership)"
   ]
  },
  {
   "cell_type": "code",
   "execution_count": null,
   "metadata": {},
   "outputs": [],
   "source": [
    "nstates=4\n",
    "mfpt = np.zeros((nstates, nstates))\n",
    "for i in range(nstates):\n",
    "    for j in range(nstates):\n",
    "        mfpt[i, j] = msm.mfpt(\n",
    "            msm.metastable_sets[i],\n",
    "            msm.metastable_sets[j])\n",
    "\n",
    "inverse_mfpt = np.zeros_like(mfpt)\n",
    "nz = mfpt.nonzero()\n",
    "inverse_mfpt[nz] = 1.0 / mfpt[nz]"
   ]
  },
  {
   "cell_type": "code",
   "execution_count": null,
   "metadata": {},
   "outputs": [],
   "source": [
    "\n",
    "pyemma.plots.plot_network(\n",
    "    inverse_mfpt,\n",
    "    pos=coarse_state_centers,\n",
    "    figpadding=0,\n",
    "    arrow_label_format='%.1f ps',\n",
    "    arrow_labels=mfpt,\n",
    "    size=12,\n",
    "    show_frame=True)\n"
   ]
  },
  {
   "cell_type": "code",
   "execution_count": null,
   "metadata": {},
   "outputs": [],
   "source": [
    "fig, ax = plt.subplots(figsize=(10, 7))\n",
    "_, _, misc = pyemma.plots.plot_state_map(\n",
    "    tica_concatenated[:][:,0].T, tica_concatenated[:][:,1].T, ax=ax, states=metastable_traj, zorder=-1)\n",
    "misc['cbar'].set_ticklabels(range(1, nstates + 1))  # set state numbers 1 ... nstates\n",
    "\n",
    "ax.set_xlabel('IC1')\n",
    "ax.set_ylabel('IC2')\n",
    "fig.tight_layout()"
   ]
  },
  {
   "cell_type": "code",
   "execution_count": null,
   "metadata": {},
   "outputs": [],
   "source": [
    "fig, ax = plt.subplots(figsize=(10, 7))\n",
    "_, _, misc = pyemma.plots.plot_state_map(\n",
    "    tica_concatenated[:][:,1].T, tica_concatenated[:][:,2].T, ax=ax, states=metastable_traj, zorder=-1)\n",
    "misc['cbar'].set_ticklabels(range(1, nstates + 1))  # set state numbers 1 ... nstates\n",
    "\n",
    "\n",
    "\n",
    "ax.set_xlabel('IC2')\n",
    "ax.set_ylabel('IC3')\n",
    "fig.tight_layout()"
   ]
  },
  {
   "cell_type": "markdown",
   "metadata": {},
   "source": [
    "# Generate sample trajectories from MSM we've built"
   ]
  },
  {
   "cell_type": "code",
   "execution_count": null,
   "metadata": {},
   "outputs": [],
   "source": [
    "test_dtrajs = np.array(test_clusters)"
   ]
  },
  {
   "cell_type": "code",
   "execution_count": null,
   "metadata": {},
   "outputs": [],
   "source": [
    "# start from beginning of test file \n",
    "all_rmsds = []\n",
    "for i in range(0, len(test_files)):\n",
    "    print(i, end=\"\")\n",
    "    i_clustering = test_dtrajs[i,:]\n",
    "    traj = md.load_xtc(test_files[i], top=pdb)\n",
    "    rmsds = []\n",
    "    for j in range(0,10000-1, 100):\n",
    "        print('.', end=\"\")\n",
    "        initial_state = i_clustering[j]\n",
    "        generated_traj = msm.generate_traj(1, start=initial_state)\n",
    "        target_traj = md.load_xtc(train_files[generated_traj[0][0]], top=pdb)\n",
    "        target_frame = target_traj[generated_traj[0][1]]\n",
    "        rmsd = md.rmsd(target_frame,traj, j+1)\n",
    "        rmsds.append(rmsd[0])\n",
    "    print(\"!\")\n",
    "        \n",
    "    \n",
    "    #if j % 100:\n",
    "    #print(j)\n",
    "        \n",
    "    all_rmsds.append(rmsds)\n",
    "    #"
   ]
  },
  {
   "cell_type": "code",
   "execution_count": null,
   "metadata": {},
   "outputs": [],
   "source": [
    "np.array(all_rmsds).shape"
   ]
  },
  {
   "cell_type": "code",
   "execution_count": null,
   "metadata": {},
   "outputs": [],
   "source": [
    "all_rmsds = np.array(all_rmsds)\n",
    "print(all_rmsds.shape)\n",
    "avg_rmsds = np.mean(all_rmsds, axis=0)\n",
    "print(avg_rmsds.shape)"
   ]
  },
  {
   "cell_type": "code",
   "execution_count": null,
   "metadata": {},
   "outputs": [],
   "source": [
    "avg_rmsds = np.mean(all_rmsds, axis=0)\n",
    "avg_rmsds = avg_rmsds*10\n",
    "\n",
    "plt.plot(range(0,100), avg_rmsds)\n",
    "plt.ylabel('RMSD ($\\AA$)', fontsize=13)\n",
    "plt.title('Average RMSD of step ahead prediction on test data', fontsize=14)\n",
    "#plt.legend()\n",
    "plt.savefig('RMSD_TEST.png')\n"
   ]
  },
  {
   "cell_type": "code",
   "execution_count": null,
   "metadata": {},
   "outputs": [],
   "source": [
    "print(np.mean(avg_rmsds))"
   ]
  },
  {
   "cell_type": "code",
   "execution_count": null,
   "metadata": {},
   "outputs": [],
   "source": []
  }
 ],
 "metadata": {
  "colab": {
   "provenance": []
  },
  "kernelspec": {
   "display_name": "Python 3 (ipykernel)",
   "language": "python",
   "name": "python3"
  },
  "language_info": {
   "codemirror_mode": {
    "name": "ipython",
    "version": 3
   },
   "file_extension": ".py",
   "mimetype": "text/x-python",
   "name": "python",
   "nbconvert_exporter": "python",
   "pygments_lexer": "ipython3",
   "version": "3.10.4"
  }
 },
 "nbformat": 4,
 "nbformat_minor": 1
}
